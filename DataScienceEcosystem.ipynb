{
  "nbformat": 4,
  "nbformat_minor": 0,
  "metadata": {
    "colab": {
      "provenance": []
    },
    "kernelspec": {
      "name": "python3",
      "display_name": "Python 3"
    },
    "language_info": {
      "name": "python"
    }
  },
  "cells": [
    {
      "cell_type": "markdown",
      "source": [
        "# Data Science Tools and Ecosystem"
      ],
      "metadata": {
        "id": "obAsK8WCeHgj"
      }
    },
    {
      "cell_type": "markdown",
      "source": [
        "## Introduction\n",
        "In this notebook, Data Science Tools and Ecosystem are summarized."
      ],
      "metadata": {
        "id": "pbD0imbveS6E"
      }
    },
    {
      "cell_type": "markdown",
      "source": [
        "**Objectives:**\n",
        "1. List popular languages for Data Science\n",
        "2. List commonly used libraries used by Data Scientists\n",
        "3. List Data Science Tools\n",
        "4. Evaluate arithmetic expressions in Python\n",
        "\n"
      ],
      "metadata": {
        "id": "zvbXJ0aMmKDS"
      }
    },
    {
      "cell_type": "markdown",
      "source": [
        "Some of the popular languages that Data Scientists use are:\n",
        "\n",
        "1. Python\n",
        "2. R\n",
        "3. SQL\n",
        "4. VBA\n",
        "\n",
        "\n",
        "\n",
        "\n",
        "\n"
      ],
      "metadata": {
        "id": "CBHBFvJ8fK8f"
      }
    },
    {
      "cell_type": "markdown",
      "source": [
        "Some of the commonly used libraries used by Data Scientists include:\n",
        "1. Pandas\n",
        "2. Numpy\n",
        "3. Matplotlib\n",
        "4. Seaborn\n",
        "5. Keras"
      ],
      "metadata": {
        "id": "bt9JeLZngZTv"
      }
    },
    {
      "cell_type": "markdown",
      "source": [
        "---\n",
        "Data Science Tools\n",
        "\n",
        "---\n",
        "RStudio\n",
        "\n",
        "---\n",
        "Apache Spark\n",
        "\n",
        "---\n",
        "TensorFlow\n",
        "\n",
        "\n",
        "---\n",
        "Apache Hadoop\n",
        "\n",
        "---"
      ],
      "metadata": {
        "id": "QxkxaohXg8Yb"
      }
    },
    {
      "cell_type": "markdown",
      "source": [
        "### Below are a few examples of evaluating arithmetic expressions in Python."
      ],
      "metadata": {
        "id": "BVT_dx1pi9Da"
      }
    },
    {
      "cell_type": "code",
      "source": [
        "# This a simple arithmetic expression to mutiply then add integers\n",
        "(3*4)+5"
      ],
      "metadata": {
        "id": "NyBAIF9QeUM3",
        "colab": {
          "base_uri": "https://localhost:8080/"
        },
        "outputId": "8666b2fa-7267-4565-b7c8-ad5d7771573c"
      },
      "execution_count": 2,
      "outputs": [
        {
          "output_type": "execute_result",
          "data": {
            "text/plain": [
              "17"
            ]
          },
          "metadata": {},
          "execution_count": 2
        }
      ]
    },
    {
      "cell_type": "code",
      "source": [
        "# This will convert 200 minutes to hours by diving by 60\n",
        "round(200/60, 2)"
      ],
      "metadata": {
        "colab": {
          "base_uri": "https://localhost:8080/"
        },
        "id": "8unDijrLjnjp",
        "outputId": "7c6e7876-14ac-4a61-a359-bc8fd3ad2a40"
      },
      "execution_count": 6,
      "outputs": [
        {
          "output_type": "execute_result",
          "data": {
            "text/plain": [
              "3.33"
            ]
          },
          "metadata": {},
          "execution_count": 6
        }
      ]
    },
    {
      "cell_type": "markdown",
      "source": [
        "## Author\n",
        "Aderonmu Yetunde"
      ],
      "metadata": {
        "id": "eihD4C3AnUvS"
      }
    }
  ]
}